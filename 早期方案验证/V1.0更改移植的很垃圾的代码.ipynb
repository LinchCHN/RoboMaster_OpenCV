{
 "cells": [
  {
   "cell_type": "code",
   "execution_count": 7,
   "metadata": {
    "collapsed": true
   },
   "outputs": [],
   "source": [
    "import cv2\n",
    "import numpy as np\n",
    "import time"
   ]
  },
  {
   "cell_type": "code",
   "execution_count": 8,
   "metadata": {
    "collapsed": true
   },
   "outputs": [],
   "source": [
    "# 初始化摄像头\n",
    "cap = cv2.VideoCapture(4)"
   ]
  },
  {
   "cell_type": "code",
   "execution_count": 9,
   "metadata": {},
   "outputs": [
    {
     "data": {
      "text/plain": [
       "True"
      ]
     },
     "execution_count": 9,
     "metadata": {},
     "output_type": "execute_result"
    }
   ],
   "source": [
    "# 设置摄像头的帧大小\n",
    "cap.set(cv2.CAP_PROP_FRAME_WIDTH, 1080)\n",
    "cap.set(cv2.CAP_PROP_FRAME_HEIGHT, 980)"
   ]
  },
  {
   "cell_type": "code",
   "execution_count": 10,
   "metadata": {
    "collapsed": true
   },
   "outputs": [],
   "source": [
    "lower_blue = np.array([100, 50, 50])\n",
    "upper_blue = np.array([130, 255, 255])\n",
    "lower_red = np.array([0, 50, 50])\n",
    "upper_red = np.array([10, 255, 255])"
   ]
  },
  {
   "cell_type": "code",
   "execution_count": 12,
   "metadata": {},
   "outputs": [],
   "source": [
    "start_time = time.time()\n",
    "while True:\n",
    "    # 读取一帧图像\n",
    "    ret, frame = cap.read()\n",
    "\n",
    "    if not ret:\n",
    "        break\n",
    "\n",
    "    # 转换图像到HSV色彩空间\n",
    "    hsv = cv2.cvtColor(frame, cv2.COLOR_BGR2HSV)\n",
    "\n",
    "    # 使用颜色阈值找到蓝色目标\n",
    "    blue_mask = cv2.inRange(hsv, lower_blue, upper_blue)\n",
    "    _, blue_contours, _ = cv2.findContours(blue_mask, cv2.RETR_EXTERNAL, cv2.CHAIN_APPROX_SIMPLE)\n",
    "#这_,把两输入改成单输入\n",
    "\n",
    "     # 寻找蓝色目标的区域\n",
    "    for contour in blue_contours:\n",
    "        if cv2.contourArea(contour) > 1000:\n",
    "            # 找到目标的上下两个点\n",
    "            rect = cv2.minAreaRect(contour)\n",
    "            box = cv2.boxPoints(rect)\n",
    "            box = np.int0(box)\n",
    "\n",
    "            # 寻找上下两个点\n",
    "            top_point = tuple(box[box[:, 1].argmin()])\n",
    "            bottom_point = tuple(box[box[:, 1].argmax()])\n",
    "\n",
    "            # 在图像上标记上下两个点的位置\n",
    "            cv2.circle(frame, top_point, 5, (0, 255, 0), -1)\n",
    "            cv2.circle(frame, bottom_point, 5, (0, 255, 0), -1)\n",
    "\n",
    "            # 连接上下两点并标注交点\n",
    "            mid_point = ((top_point[0] + bottom_point[0]) // 2, (top_point[1] + bottom_point[1]) // 2)\n",
    "\n",
    "            cv2.line(frame, top_point, bottom_point, (0, 255, 0), 2)\n",
    "            cv2.circle(frame, mid_point, 5, (0, 0, 255), -1)\n",
    "\n",
    "    # 在图像的左上角显示当前的帧率\n",
    "    cv2.putText(frame, f\"FPS: {int(1 / (time.time() - start_time))}\", (10, 20), cv2.FONT_HERSHEY_SIMPLEX, 0.5,\n",
    "                (0, 255, 0), 2)\n",
    "\n",
    "    # 显示图像\n",
    "    cv2.imshow('Frame', frame)\n",
    "\n",
    "    # 按 'q' 键退出循环\n",
    "    if cv2.waitKey(1) & 0xFF == ord('q'):\n",
    "        break\n",
    "\n",
    "# 释放摄像头并关闭窗口\n",
    "cap.release()\n",
    "cv2.destroyAllWindows()"
   ]
  },
  {
   "cell_type": "code",
   "execution_count": null,
   "metadata": {
    "collapsed": true
   },
   "outputs": [],
   "source": []
  }
 ],
 "metadata": {
  "kernelspec": {
   "display_name": "Python [conda env:opencv3]",
   "language": "python",
   "name": "conda-env-opencv3-py"
  },
  "language_info": {
   "codemirror_mode": {
    "name": "ipython",
    "version": 3
   },
   "file_extension": ".py",
   "mimetype": "text/x-python",
   "name": "python",
   "nbconvert_exporter": "python",
   "pygments_lexer": "ipython3",
   "version": "3.6.13"
  }
 },
 "nbformat": 4,
 "nbformat_minor": 2
}
