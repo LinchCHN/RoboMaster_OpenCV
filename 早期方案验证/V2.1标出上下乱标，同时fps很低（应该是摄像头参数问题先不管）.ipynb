{
 "cells": [
  {
   "cell_type": "code",
   "execution_count": 1,
   "metadata": {
    "collapsed": true
   },
   "outputs": [],
   "source": [
    "import cv2\n",
    "import numpy as np\n",
    "import time"
   ]
  },
  {
   "cell_type": "code",
   "execution_count": 2,
   "metadata": {
    "collapsed": true
   },
   "outputs": [],
   "source": [
    "# 初始化摄像头\n",
    "cap = cv2.VideoCapture(4)"
   ]
  },
  {
   "cell_type": "code",
   "execution_count": 3,
   "metadata": {},
   "outputs": [
    {
     "data": {
      "text/plain": [
       "True"
      ]
     },
     "execution_count": 3,
     "metadata": {},
     "output_type": "execute_result"
    }
   ],
   "source": [
    "# 设置摄像头的帧大小\n",
    "cap.set(cv2.CAP_PROP_FRAME_WIDTH, 1080)\n",
    "cap.set(cv2.CAP_PROP_FRAME_HEIGHT, 980)"
   ]
  },
  {
   "cell_type": "code",
   "execution_count": null,
   "metadata": {
    "collapsed": true
   },
   "outputs": [],
   "source": [
    "#lower_blue = np.array([53, -50, -50])    (53, 100, -54, 2, -45, -2)\n",
    "#upper_blue = np.array([100, 2, -2])\n",
    "lower_blue = np.array([100, 50, 50])    \n",
    "upper_blue = np.array([130, 255, 255])\n",
    "lower_red = np.array([0, 50, 50])\n",
    "upper_red = np.array([10, 255, 255])"
   ]
  },
  {
   "cell_type": "code",
   "execution_count": null,
   "metadata": {
    "collapsed": true
   },
   "outputs": [],
   "source": [
    "start_time = time.time()\n",
    "\n",
    "# 初始化点的坐标\n",
    "#L1, L2, R1, R2 = (0, 0), (0, 0), (0, 0), (0, 0)\n",
    "# 初始化点的坐标和名字\n",
    "points = {'L1': (0, 0), 'L2': (0, 0), 'R1': (0, 0), 'R2': (0, 0)}\n",
    "\n",
    "while True:\n",
    "    # 读取一帧图像\n",
    "    ret, frame = cap.read()\n",
    "\n",
    "    if not ret:\n",
    "        break\n",
    "\n",
    "    # 转换图像到HSV色彩空间\n",
    "    hsv = cv2.cvtColor(frame, cv2.COLOR_BGR2HSV)\n",
    "\n",
    "    # 使用颜色阈值找到蓝色目标\n",
    "    blue_mask = cv2.inRange(hsv, lower_blue, upper_blue)\n",
    "    _, blue_contours, _ = cv2.findContours(blue_mask, cv2.RETR_EXTERNAL, cv2.CHAIN_APPROX_SIMPLE)\n",
    "\n",
    "    # 寻找蓝色目标的区域\n",
    "    for contour in blue_contours:\n",
    "        if cv2.contourArea(contour) > 1000:\n",
    "            # 获取目标的上下两个点\n",
    "            x, y, w, h = cv2.boundingRect(contour)\n",
    "\n",
    "            # 根据横坐标判断是左侧还是右侧\n",
    "            if x < frame.shape[1] // 2:  # 左侧\n",
    "                if points['L1'] == (0, 0):\n",
    "                    points['L1'] = (x + w // 2, y)\n",
    "                else:\n",
    "                    points['L2'] = (x + w // 2, y + h)\n",
    "            else:  # 右侧\n",
    "                if points['R1'] == (0, 0):\n",
    "                    points['R1'] = (x + w // 2, y)\n",
    "                else:\n",
    "                    points['R2'] = (x + w // 2, y + h)\n",
    "\n",
    "    # 在图像中标注出四个点\n",
    "    for name, point in points.items():\n",
    "        cv2.circle(frame, point, 5, (0, 255, 0) if name.startswith('L') else (0, 0, 255), -1)  # 根据名字用绿色或红色标注\n",
    "        cv2.putText(frame, f\"{name}: {point}\", (point[0] + 10, point[1] - 10), cv2.FONT_HERSHEY_SIMPLEX, 0.5,\n",
    "                    (255, 255, 255), 2)\n",
    "\n",
    "    # 在图像上显示帧速率\n",
    "    fps = 1 / (time.time() - start_time)\n",
    "    cv2.putText(frame, f\"FPS: {fps:.2f}\", (10, 30), cv2.FONT_HERSHEY_SIMPLEX, 1, (0, 255, 0), 2)\n",
    "\n",
    "    # 显示结果图像\n",
    "    cv2.imshow('Frame', frame)\n",
    "\n",
    "    # 检测按键，如果按下 'q' 键，则退出循环\n",
    "    if cv2.waitKey(1) & 0xFF == ord('q'):\n",
    "        break\n",
    "\n",
    "    # 更新起始时间\n",
    "    start_time = time.time()\n",
    "\n",
    "# 释放摄像头资源\n",
    "cap.release()\n",
    "\n",
    "# 关闭所有窗口\n",
    "cv2.destroyAllWindows()"
   ]
  },
  {
   "cell_type": "code",
   "execution_count": null,
   "metadata": {
    "collapsed": true
   },
   "outputs": [],
   "source": []
  }
 ],
 "metadata": {
  "kernelspec": {
   "display_name": "Python [conda env:opencv3]",
   "language": "python",
   "name": "conda-env-opencv3-py"
  },
  "language_info": {
   "codemirror_mode": {
    "name": "ipython",
    "version": 3
   },
   "file_extension": ".py",
   "mimetype": "text/x-python",
   "name": "python",
   "nbconvert_exporter": "python",
   "pygments_lexer": "ipython3",
   "version": "3.6.13"
  }
 },
 "nbformat": 4,
 "nbformat_minor": 2
}
