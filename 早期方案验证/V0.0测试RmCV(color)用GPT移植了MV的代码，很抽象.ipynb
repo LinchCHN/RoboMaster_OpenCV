{
 "cells": [
  {
   "cell_type": "code",
   "execution_count": 1,
   "metadata": {
    "collapsed": true
   },
   "outputs": [],
   "source": [
    "import cv2\n",
    "import numpy as np\n",
    "import time"
   ]
  },
  {
   "cell_type": "code",
   "execution_count": 2,
   "metadata": {
    "collapsed": true
   },
   "outputs": [],
   "source": [
    "# 初始化摄像头\n",
    "cap = cv2.VideoCapture(4)"
   ]
  },
  {
   "cell_type": "code",
   "execution_count": 3,
   "metadata": {},
   "outputs": [
    {
     "data": {
      "text/plain": [
       "True"
      ]
     },
     "execution_count": 3,
     "metadata": {},
     "output_type": "execute_result"
    }
   ],
   "source": [
    "# 设置摄像头的帧大小\n",
    "cap.set(cv2.CAP_PROP_FRAME_WIDTH, 640)\n",
    "cap.set(cv2.CAP_PROP_FRAME_HEIGHT, 480)"
   ]
  },
  {
   "cell_type": "code",
   "execution_count": 4,
   "metadata": {
    "collapsed": true
   },
   "outputs": [],
   "source": [
    "lower_blue = np.array([100, 50, 50])\n",
    "upper_blue = np.array([130, 255, 255])\n",
    "lower_red = np.array([0, 50, 50])\n",
    "upper_red = np.array([10, 255, 255])"
   ]
  },
  {
   "cell_type": "code",
   "execution_count": 5,
   "metadata": {},
   "outputs": [
    {
     "ename": "KeyboardInterrupt",
     "evalue": "",
     "output_type": "error",
     "traceback": [
      "\u001b[1;31m---------------------------------------------------------------------------\u001b[0m",
      "\u001b[1;31mKeyboardInterrupt\u001b[0m                         Traceback (most recent call last)",
      "\u001b[1;32m<ipython-input-5-727b1ef8279a>\u001b[0m in \u001b[0;36m<module>\u001b[1;34m()\u001b[0m\n\u001b[0;32m      2\u001b[0m \u001b[1;32mwhile\u001b[0m \u001b[1;32mTrue\u001b[0m\u001b[1;33m:\u001b[0m\u001b[1;33m\u001b[0m\u001b[1;33m\u001b[0m\u001b[0m\n\u001b[0;32m      3\u001b[0m     \u001b[1;31m# 读取一帧图像\u001b[0m\u001b[1;33m\u001b[0m\u001b[1;33m\u001b[0m\u001b[1;33m\u001b[0m\u001b[0m\n\u001b[1;32m----> 4\u001b[1;33m     \u001b[0mret\u001b[0m\u001b[1;33m,\u001b[0m \u001b[0mframe\u001b[0m \u001b[1;33m=\u001b[0m \u001b[0mcap\u001b[0m\u001b[1;33m.\u001b[0m\u001b[0mread\u001b[0m\u001b[1;33m(\u001b[0m\u001b[1;33m)\u001b[0m\u001b[1;33m\u001b[0m\u001b[1;33m\u001b[0m\u001b[0m\n\u001b[0m\u001b[0;32m      5\u001b[0m \u001b[1;33m\u001b[0m\u001b[0m\n\u001b[0;32m      6\u001b[0m     \u001b[1;32mif\u001b[0m \u001b[1;32mnot\u001b[0m \u001b[0mret\u001b[0m\u001b[1;33m:\u001b[0m\u001b[1;33m\u001b[0m\u001b[1;33m\u001b[0m\u001b[0m\n",
      "\u001b[1;31mKeyboardInterrupt\u001b[0m: "
     ]
    }
   ],
   "source": [
    "start_time = time.time()\n",
    "while True:\n",
    "    # 读取一帧图像\n",
    "    ret, frame = cap.read()\n",
    "\n",
    "    if not ret:\n",
    "        break\n",
    "\n",
    "    # 转换图像到HSV色彩空间\n",
    "    hsv = cv2.cvtColor(frame, cv2.COLOR_BGR2HSV)\n",
    "\n",
    "    # 使用颜色阈值找到蓝色目标\n",
    "    blue_mask = cv2.inRange(hsv, lower_blue, upper_blue)\n",
    "    _, blue_contours, _ = cv2.findContours(blue_mask, cv2.RETR_EXTERNAL, cv2.CHAIN_APPROX_SIMPLE)\n",
    "#这_,把两输入改成单输入\n",
    "\n",
    "    # 寻找蓝色目标的区域\n",
    "    for contour in blue_contours:\n",
    "        if cv2.contourArea(contour) > 1000:\n",
    "            # 找到目标的左上、左下、右上和右下四个点\n",
    "            rect = cv2.minAreaRect(contour)\n",
    "            box = cv2.boxPoints(rect)\n",
    "            box = np.int0(box)\n",
    "\n",
    "            # 绘制目标区域\n",
    "            cv2.drawContours(frame, [box], 0, (255, 0, 0), 2)\n",
    "            \n",
    "            # 找到左上和右下点的坐标\n",
    "            left_top = tuple(box[box[:, 1].argmin()])\n",
    "            right_bottom = tuple(box[box[:, 1].argmax()])\n",
    "\n",
    "            # 在图像上标记左上和右下点的位置\n",
    "            cv2.circle(frame, left_top, 5, (0, 255, 0), -1)\n",
    "            cv2.circle(frame, right_bottom, 5, (0, 255, 0), -1)\n",
    "\n",
    "            # 连接线段并标注交点\n",
    "            mid_point1 = ((left_top[0] + right_bottom[0]) // 2, left_top[1])\n",
    "            mid_point2 = ((left_top[0] + right_bottom[0]) // 2, right_bottom[1])\n",
    "            intersection_point = ((left_top[0] + right_bottom[0]) // 2, (left_top[1] + right_bottom[1]) // 2)\n",
    "\n",
    "            cv2.line(frame, left_top, right_bottom, (0, 255, 0), 2)\n",
    "            cv2.line(frame, mid_point1, mid_point2, (0, 255, 0), 2)\n",
    "            cv2.circle(frame, intersection_point, 5, (0, 0, 255), -1)\n",
    "    \n",
    "    # 在图像的左上角显示当前的帧率\n",
    "    cv2.putText(frame, f\"FPS: {int(1 / (time.time() - start_time))}\", (10, 20), cv2.FONT_HERSHEY_SIMPLEX, 0.5,\n",
    "                (0, 255, 0), 2)\n",
    "\n",
    "    # 显示图像\n",
    "    cv2.imshow('Frame', frame)\n",
    "\n",
    "    # 按 'q' 键退出循环\n",
    "    if cv2.waitKey(1) & 0xFF == ord('q'):\n",
    "        break\n",
    "\n",
    "# 释放摄像头并关闭窗口\n",
    "cap.release()\n",
    "cv2.destroyAllWindows()"
   ]
  },
  {
   "cell_type": "code",
   "execution_count": null,
   "metadata": {
    "collapsed": true
   },
   "outputs": [],
   "source": []
  },
  {
   "cell_type": "code",
   "execution_count": null,
   "metadata": {
    "collapsed": true
   },
   "outputs": [],
   "source": []
  }
 ],
 "metadata": {
  "kernelspec": {
   "display_name": "Python [conda env:opencv3]",
   "language": "python",
   "name": "conda-env-opencv3-py"
  },
  "language_info": {
   "codemirror_mode": {
    "name": "ipython",
    "version": 3
   },
   "file_extension": ".py",
   "mimetype": "text/x-python",
   "name": "python",
   "nbconvert_exporter": "python",
   "pygments_lexer": "ipython3",
   "version": "3.6.13"
  }
 },
 "nbformat": 4,
 "nbformat_minor": 2
}
