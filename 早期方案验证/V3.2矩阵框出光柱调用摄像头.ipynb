{
 "cells": [
  {
   "cell_type": "code",
   "execution_count": 3,
   "metadata": {},
   "outputs": [],
   "source": []
  },
  {
   "cell_type": "code",
   "execution_count": null,
   "metadata": {
    "collapsed": true
   },
   "outputs": [],
   "source": [
    "import cv2\n",
    "import numpy as np\n",
    "\n",
    "def process_frame(frame):\n",
    "    blue, _, _ = cv2.split(frame)\n",
    "    ret2, binary = cv2.threshold(blue, 220, 255, 0)\n",
    "    gaussian = cv2.GaussianBlur(binary, (5, 5), 0)\n",
    "\n",
    "    draw_img = gaussian.copy()\n",
    "    whole_h, _ = binary.shape[:2]\n",
    "\n",
    "    _, contours, _ = cv2.findContours(image=draw_img, mode=cv2.RETR_TREE, method=cv2.CHAIN_APPROX_NONE)\n",
    "    contours = sorted(contours, key=lambda c: cv2.contourArea(c), reverse=True)[:5]\n",
    "\n",
    "    width_array = []\n",
    "    height_array = []\n",
    "    point_array = []\n",
    "\n",
    "    for cont in contours:\n",
    "        x, y, w, h = cv2.boundingRect(cont)\n",
    "        try:\n",
    "            if h / w >= 2 and h / whole_h > 0.1 and h > w:\n",
    "                width_array.append(w)\n",
    "                height_array.append(h)\n",
    "                point_array.append([x, y])\n",
    "        except ZeroDivisionError:\n",
    "            continue\n",
    "\n",
    "    point_near = [0, 0]\n",
    "    min_value = 10000\n",
    "\n",
    "    for i in range(len(width_array) - 1):\n",
    "        for j in range(i + 1, len(width_array)):\n",
    "            value = abs(width_array[i] * height_array[i] - width_array[j] * height_array[j])\n",
    "            if value < min_value:\n",
    "                min_value = value\n",
    "                point_near[0] = i\n",
    "                point_near[1] = j\n",
    "\n",
    "    try:\n",
    "        rectangle1 = point_array[point_near[0]]\n",
    "        rectangle2 = point_array[point_near[1]]\n",
    "        point1 = [rectangle1[0] + width_array[point_near[0]] / 2, rectangle1[1]]\n",
    "        point2 = [rectangle1[0] + width_array[point_near[0]] / 2, rectangle1[1] + height_array[point_near[0]]]\n",
    "        point3 = [rectangle2[0] + width_array[point_near[1]] / 2, rectangle2[1]]\n",
    "        point4 = [rectangle2[0] + width_array[point_near[1]] / 2, rectangle2[1] + height_array[point_near[1]]]\n",
    "\n",
    "        x = np.array([point1, point2, point4, point3], np.int32)\n",
    "        box = x.reshape((-1, 1, 2)).astype(np.int32)\n",
    "        cv2.polylines(frame, [box], True, (0, 255, 0), 2)\n",
    "\n",
    "    except IndexError:\n",
    "        pass\n",
    "\n",
    "    return frame\n",
    "\n",
    "# Open a connection to the camera (use 0 for the default camera)\n",
    "cap = cv2.VideoCapture(0)\n",
    "\n",
    "while True:\n",
    "    # Read a frame from the camera\n",
    "    ret, frame = cap.read()\n",
    "\n",
    "    if not ret:\n",
    "        print(\"Failed to capture frame\")\n",
    "        break\n",
    "\n",
    "    # Process the frame\n",
    "    processed_frame = process_frame(frame)\n",
    "\n",
    "    # Display the processed frame\n",
    "    cv2.imshow('Processed Frame', processed_frame)\n",
    "\n",
    "    # Break the loop if 'q' key is pressed\n",
    "    if cv2.waitKey(1) & 0xFF == ord('q'):\n",
    "        break\n",
    "\n",
    "# Release the camera and close all windows\n",
    "cap.release()\n",
    "cv2.destroyAllWindows()\n"
   ]
  },
  {
   "cell_type": "code",
   "execution_count": null,
   "metadata": {},
   "outputs": [],
   "source": []
  },
  {
   "cell_type": "code",
   "execution_count": null,
   "metadata": {
    "collapsed": true
   },
   "outputs": [],
   "source": []
  }
 ],
 "metadata": {
  "kernelspec": {
   "display_name": "Python [conda env:opencv3]",
   "language": "python",
   "name": "conda-env-opencv3-py"
  },
  "language_info": {
   "codemirror_mode": {
    "name": "ipython",
    "version": 3
   },
   "file_extension": ".py",
   "mimetype": "text/x-python",
   "name": "python",
   "nbconvert_exporter": "python",
   "pygments_lexer": "ipython3",
   "version": "3.6.13"
  }
 },
 "nbformat": 4,
 "nbformat_minor": 2
}
