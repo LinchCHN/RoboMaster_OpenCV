{
 "cells": [
  {
   "cell_type": "code",
   "execution_count": 5,
   "metadata": {},
   "outputs": [
    {
     "data": {
      "text/html": [
       "<a href=\"output_video.mp4\" download>Click here to download the output video</a>"
      ],
      "text/plain": [
       "<IPython.core.display.HTML object>"
      ]
     },
     "metadata": {},
     "output_type": "display_data"
    }
   ],
   "source": [
    "import cv2\n",
    "import numpy as np\n",
    "from IPython.display import display, HTML\n",
    "import base64\n",
    "\n",
    "video_path = r'E:\\DeepLearningTMP\\LinchCV\\RM(DPLandCV)\\123456789.mp4'\n",
    "video = cv2.VideoCapture(video_path)\n",
    "\n",
    "def show_video(video_path):\n",
    "    video_html = \"\"\"\n",
    "    <video width=\"800\" height=\"600\" controls>\n",
    "        <source src=\"data:video/mp4;base64,{}\" type=\"video/mp4\">\n",
    "    </video>\n",
    "    \"\"\".format(base64.b64encode(open(video_path, \"rb\").read()).decode(\"utf-8\"))\n",
    "    display(HTML(video_html))\n",
    "\n",
    "# Set up video writer\n",
    "fourcc = cv2.VideoWriter_fourcc(*'mp4v')\n",
    "output_video_path = 'output_video.mp4'\n",
    "output_video = cv2.VideoWriter(output_video_path, fourcc, 20.0, (640, 480))\n",
    "\n",
    "current_frame = 0\n",
    "\n",
    "while True:\n",
    "    ret, frame = video.read()\n",
    "    if not ret:\n",
    "        break\n",
    "    \n",
    "    blue, _, _ = cv2.split(frame)\n",
    "    ret2, binary = cv2.threshold(blue, 220, 255, 0)\n",
    "    Gaussian = cv2.GaussianBlur(binary, (5, 5), 0)\n",
    "    \n",
    "    draw_img = Gaussian.copy()\n",
    "    whole_h, _ = binary.shape[:2]\n",
    "    \n",
    "    _,contours, _ = cv2.findContours(image=draw_img, mode=cv2.RETR_TREE, method=cv2.CHAIN_APPROX_NONE)\n",
    "    contours = sorted(contours, key=lambda c: cv2.contourArea(c), reverse=True)[:5]\n",
    "    \n",
    "    width_array = []\n",
    "    height_array = []\n",
    "    point_array = []\n",
    "    \n",
    "    for cont in contours:\n",
    "        x, y, w, h = cv2.boundingRect(cont)\n",
    "        try:\n",
    "            if h / w >= 2 and h / whole_h > 0.1 and h > w:\n",
    "                width_array.append(w)\n",
    "                height_array.append(h)\n",
    "                point_array.append([x, y])\n",
    "        except ZeroDivisionError:\n",
    "            continue\n",
    "    \n",
    "    point_near = [0, 0]\n",
    "    min_value = 10000\n",
    "    \n",
    "    for i in range(len(width_array) - 1):\n",
    "        for j in range(i + 1, len(width_array)):\n",
    "            value = abs(width_array[i] * height_array[i] - width_array[j] * height_array[j])\n",
    "            if value < min_value:\n",
    "                min_value = value\n",
    "                point_near[0] = i\n",
    "                point_near[1] = j\n",
    "    \n",
    "    try:\n",
    "        rectangle1 = point_array[point_near[0]]\n",
    "        rectangle2 = point_array[point_near[1]]\n",
    "        point1 = [rectangle1[0] + width_array[point_near[0]] / 2, rectangle1[1]]\n",
    "        point2 = [rectangle1[0] + width_array[point_near[0]] / 2, rectangle1[1] + height_array[point_near[0]]]\n",
    "        point3 = [rectangle2[0] + width_array[point_near[1]] / 2, rectangle2[1]]\n",
    "        point4 = [rectangle2[0] + width_array[point_near[1]] / 2, rectangle2[1] + height_array[point_near[1]]]\n",
    "        \n",
    "        x = np.array([point1, point2, point4, point3], np.int32)\n",
    "        box = x.reshape((-1, 1, 2)).astype(np.int32)\n",
    "        cv2.polylines(frame, [box], True, (0, 255, 0), 2)\n",
    "        output_video.write(frame)\n",
    "    except IndexError:\n",
    "        continue\n",
    "\n",
    "# Release resources\n",
    "video.release()\n",
    "output_video.release()\n",
    "cv2.destroyAllWindows()\n",
    "\n",
    "# Display a link to download the output video\n",
    "output_video_link = f'<a href=\"{output_video_path}\" download>Click here to download the output video</a>'\n",
    "display(HTML(output_video_link))\n"
   ]
  },
  {
   "cell_type": "code",
   "execution_count": null,
   "metadata": {
    "collapsed": true
   },
   "outputs": [],
   "source": []
  }
 ],
 "metadata": {
  "kernelspec": {
   "display_name": "Python [conda env:opencv3]",
   "language": "python",
   "name": "conda-env-opencv3-py"
  },
  "language_info": {
   "codemirror_mode": {
    "name": "ipython",
    "version": 3
   },
   "file_extension": ".py",
   "mimetype": "text/x-python",
   "name": "python",
   "nbconvert_exporter": "python",
   "pygments_lexer": "ipython3",
   "version": "3.6.13"
  }
 },
 "nbformat": 4,
 "nbformat_minor": 2
}
