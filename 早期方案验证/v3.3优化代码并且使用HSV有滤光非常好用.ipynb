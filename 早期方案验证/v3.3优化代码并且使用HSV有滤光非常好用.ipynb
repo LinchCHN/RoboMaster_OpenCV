{
 "cells": [
  {
   "cell_type": "code",
   "execution_count": 1,
   "metadata": {},
   "outputs": [
    {
     "ename": "NameError",
     "evalue": "name 'time' is not defined",
     "output_type": "error",
     "traceback": [
      "\u001b[1;31m---------------------------------------------------------------------------\u001b[0m",
      "\u001b[1;31mNameError\u001b[0m                                 Traceback (most recent call last)",
      "\u001b[1;32m<ipython-input-1-3f91f2ced496>\u001b[0m in \u001b[0;36m<module>\u001b[1;34m()\u001b[0m\n\u001b[0;32m      7\u001b[0m \u001b[1;31m# 初始化计数器和计时器\u001b[0m\u001b[1;33m\u001b[0m\u001b[1;33m\u001b[0m\u001b[1;33m\u001b[0m\u001b[0m\n\u001b[0;32m      8\u001b[0m \u001b[0mframe_count\u001b[0m \u001b[1;33m=\u001b[0m \u001b[1;36m0\u001b[0m\u001b[1;33m\u001b[0m\u001b[1;33m\u001b[0m\u001b[0m\n\u001b[1;32m----> 9\u001b[1;33m \u001b[0mstart_time\u001b[0m \u001b[1;33m=\u001b[0m \u001b[0mtime\u001b[0m\u001b[1;33m.\u001b[0m\u001b[0mtime\u001b[0m\u001b[1;33m(\u001b[0m\u001b[1;33m)\u001b[0m\u001b[1;33m\u001b[0m\u001b[1;33m\u001b[0m\u001b[0m\n\u001b[0m\u001b[0;32m     10\u001b[0m \u001b[1;33m\u001b[0m\u001b[0m\n\u001b[0;32m     11\u001b[0m \u001b[1;32mwhile\u001b[0m \u001b[1;32mTrue\u001b[0m\u001b[1;33m:\u001b[0m\u001b[1;33m\u001b[0m\u001b[1;33m\u001b[0m\u001b[0m\n",
      "\u001b[1;31mNameError\u001b[0m: name 'time' is not defined"
     ]
    }
   ],
   "source": [
    "import cv2\n",
    "import numpy as np\n",
    "\n",
    "# 打开摄像头\n",
    "video = cv2.VideoCapture(0)\n",
    "\n",
    "while True:\n",
    "    # 从摄像头读取一帧\n",
    "    ret, img = video.read()\n",
    "\n",
    "    # 如果读取失败，退出循环\n",
    "    if not ret:\n",
    "        break\n",
    "\n",
    "    # 将图像从BGR转换为HSV颜色空间\n",
    "    hsv = cv2.cvtColor(img, cv2.COLOR_BGR2HSV)\n",
    "\n",
    "    # 定义蓝色的HSV范围\n",
    "    lower_blue = np.array([100, 50, 50])\n",
    "    upper_blue = np.array([130, 255, 255])\n",
    "\n",
    "    # 创建蓝色的掩码\n",
    "    blue_mask = cv2.inRange(hsv, lower_blue, upper_blue)\n",
    "\n",
    "    # 对掩码应用高斯模糊\n",
    "    blue_mask = cv2.GaussianBlur(blue_mask, (5, 5), 0)\n",
    "\n",
    "    # 获取二值图像的尺寸\n",
    "    whole_h, _ = blue_mask.shape[:2]\n",
    "\n",
    "    # 在蓝色掩码中查找轮廓\n",
    "    _,contours, _ = cv2.findContours(image=blue_mask, mode=cv2.RETR_TREE, method=cv2.CHAIN_APPROX_NONE)\n",
    "\n",
    "    # 将轮廓转换为列表并按面积降序排列\n",
    "    contours = sorted(contours, key=lambda c: cv2.contourArea(c), reverse=True)[:5]\n",
    "\n",
    "    # 存储矩形宽度、高度和点的数组\n",
    "    rects = []\n",
    "\n",
    "    # 遍历前5个轮廓\n",
    "    for cont in contours:\n",
    "        # 获取边界矩形的坐标和尺寸\n",
    "        x, y, w, h = cv2.boundingRect(cont)\n",
    "        \n",
    "        # 检查有效矩形的条件\n",
    "        if h / w >= 2 and h / whole_h > 0.1 and h > w:\n",
    "            rects.append([x, y, w, h])\n",
    "\n",
    "    # 找到面积最接近的两个矩形\n",
    "    min_value = float('inf')\n",
    "    best_rects = []\n",
    "\n",
    "    for i in range(len(rects) - 1):\n",
    "        for j in range(i + 1, len(rects)):\n",
    "            value = abs(rects[i][2] * rects[i][3] - rects[j][2] * rects[j][3])\n",
    "            if value < min_value:\n",
    "                min_value = value\n",
    "                best_rects = [rects[i], rects[j]]\n",
    "\n",
    "    # 如果找到了两个最近矩形\n",
    "    if best_rects:\n",
    "        # 计算并打印矩形的四个角点\n",
    "        rectangle1, rectangle2 = best_rects\n",
    "        point1 = [rectangle1[0] + rectangle1[2] / 2, rectangle1[1]]\n",
    "        point2 = [rectangle1[0] + rectangle1[2] / 2, rectangle1[1] + rectangle1[3]]\n",
    "        point3 = [rectangle2[0] + rectangle2[2] / 2, rectangle2[1]]\n",
    "        point4 = [rectangle2[0] + rectangle2[2] / 2, rectangle2[1] + rectangle2[3]]\n",
    "\n",
    "        print(point1, point2, point3, point4)\n",
    "\n",
    "        # 定义矩形为多边形并在原始图像上绘制它\n",
    "        pts = np.array([point1, point2, point4, point3], np.int32).reshape((-1, 1, 2))\n",
    "        cv2.polylines(img, [pts], isClosed=True, color=(0, 255, 0), thickness=2)\n",
    "\n",
    "    # 显示摄像头画面\n",
    "    cv2.imshow('Camera Feed', img)\n",
    "\n",
    "    # 检查是否按下 'q' 键以退出循环\n",
    "    if cv2.waitKey(1) & 0xFF == ord('q'):\n",
    "        break\n",
    "\n",
    "# 释放摄像头资源和关闭窗口\n",
    "video.release()\n",
    "cv2.destroyAllWindows()\n"
   ]
  },
  {
   "cell_type": "code",
   "execution_count": null,
   "metadata": {
    "collapsed": true
   },
   "outputs": [],
   "source": []
  }
 ],
 "metadata": {
  "kernelspec": {
   "display_name": "Python [conda env:opencv3]",
   "language": "python",
   "name": "conda-env-opencv3-py"
  },
  "language_info": {
   "codemirror_mode": {
    "name": "ipython",
    "version": 3
   },
   "file_extension": ".py",
   "mimetype": "text/x-python",
   "name": "python",
   "nbconvert_exporter": "python",
   "pygments_lexer": "ipython3",
   "version": "3.6.13"
  }
 },
 "nbformat": 4,
 "nbformat_minor": 2
}
